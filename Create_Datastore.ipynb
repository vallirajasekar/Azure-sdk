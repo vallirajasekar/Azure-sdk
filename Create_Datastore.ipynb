{
  "nbformat": 4,
  "nbformat_minor": 0,
  "metadata": {
    "colab": {
      "provenance": [],
      "toc_visible": true,
      "authorship_tag": "ABX9TyOAZs66GSBIEsqcrmN21vu2",
      "include_colab_link": true
    },
    "kernelspec": {
      "name": "python3",
      "display_name": "Python 3"
    },
    "language_info": {
      "name": "python"
    }
  },
  "cells": [
    {
      "cell_type": "markdown",
      "metadata": {
        "id": "view-in-github",
        "colab_type": "text"
      },
      "source": [
        "<a href=\"https://colab.research.google.com/github/vallirajasekar/Azure-sdk/blob/main/Create_Datastore.ipynb\" target=\"_parent\"><img src=\"https://colab.research.google.com/assets/colab-badge.svg\" alt=\"Open In Colab\"/></a>"
      ]
    },
    {
      "cell_type": "code",
      "execution_count": 4,
      "metadata": {
        "id": "5pj79k1SZ4WZ"
      },
      "outputs": [],
      "source": [
        "#pip install azureml-sdk"
      ]
    },
    {
      "cell_type": "markdown",
      "source": [
        "# Installation and Setup"
      ],
      "metadata": {
        "id": "-9BAtYFPamZy"
      }
    },
    {
      "cell_type": "code",
      "source": [
        "import azureml.core\n",
        "print(azureml.core .VERSION)"
      ],
      "metadata": {
        "colab": {
          "base_uri": "https://localhost:8080/"
        },
        "id": "HbHGxVMnaeSx",
        "outputId": "cfd90f50-0492-46a3-a272-6f59058684b0"
      },
      "execution_count": 3,
      "outputs": [
        {
          "output_type": "stream",
          "name": "stdout",
          "text": [
            "1.55.0\n"
          ]
        }
      ]
    },
    {
      "cell_type": "markdown",
      "source": [
        "# Creating Workspace"
      ],
      "metadata": {
        "id": "0U7ennaRa5vz"
      }
    },
    {
      "cell_type": "code",
      "source": [
        "from azureml.core import Workspace\n"
      ],
      "metadata": {
        "id": "40f9FO2JbH4e"
      },
      "execution_count": 6,
      "outputs": []
    },
    {
      "cell_type": "code",
      "source": [
        "ws=Workspace.from_config(path='/content/config (2).json')"
      ],
      "metadata": {
        "colab": {
          "base_uri": "https://localhost:8080/"
        },
        "id": "YTvejhMCa8RM",
        "outputId": "8d8f3ba4-1bff-428a-e3ce-de2018c05c4d"
      },
      "execution_count": 7,
      "outputs": [
        {
          "output_type": "stream",
          "name": "stdout",
          "text": [
            "Performing interactive authentication. Please follow the instructions on the terminal.\n"
          ]
        },
        {
          "output_type": "stream",
          "name": "stderr",
          "text": [
            "WARNING:azureml._vendor.azure_cli_core.auth.identity:To sign in, use a web browser to open the page https://microsoft.com/devicelogin and enter the code EC3PBGUEB to authenticate.\n"
          ]
        },
        {
          "output_type": "stream",
          "name": "stdout",
          "text": [
            "Interactive authentication successfully completed.\n"
          ]
        }
      ]
    },
    {
      "cell_type": "markdown",
      "source": [
        "# Creating Datastore"
      ],
      "metadata": {
        "id": "UhSevO6JdBy7"
      }
    },
    {
      "cell_type": "code",
      "source": [
        "from azureml.core import Datastore"
      ],
      "metadata": {
        "id": "UGejjq6mbE1C"
      },
      "execution_count": 8,
      "outputs": []
    },
    {
      "cell_type": "code",
      "source": [
        "az_dstore=Datastore.register_azure_blob_container(workspace=ws,datastore_name='azureml_sdk_blob',account_name='azuremlsdk212',container_name='azureml-blob-container',account_key='jrpzmzd3U9NdewASE9oAsEnVZdmbpA3xOCvGL3rhX3wp62nszBddoLazHA/a8LqMTyU292Ff7Q/v+ASthUIBUA==')"
      ],
      "metadata": {
        "id": "OtNUVHbekWjd"
      },
      "execution_count": 11,
      "outputs": []
    },
    {
      "cell_type": "markdown",
      "source": [
        "# Creating DataSet"
      ],
      "metadata": {
        "id": "5520B2_23rVe"
      }
    },
    {
      "cell_type": "code",
      "source": [
        "from azureml.core import Datastore,Dataset"
      ],
      "metadata": {
        "id": "UgmrxkvI3t3B"
      },
      "execution_count": 12,
      "outputs": []
    },
    {
      "cell_type": "code",
      "source": [
        "## Access the Datastore"
      ],
      "metadata": {
        "id": "v4qdtVCn3423"
      },
      "execution_count": null,
      "outputs": []
    }
  ]
}