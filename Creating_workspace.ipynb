{
  "nbformat": 4,
  "nbformat_minor": 0,
  "metadata": {
    "colab": {
      "provenance": [],
      "toc_visible": true,
      "authorship_tag": "ABX9TyMAYCOhWXu95z8Wbkg2z3W0",
      "include_colab_link": true
    },
    "kernelspec": {
      "name": "python3",
      "display_name": "Python 3"
    },
    "language_info": {
      "name": "python"
    }
  },
  "cells": [
    {
      "cell_type": "markdown",
      "metadata": {
        "id": "view-in-github",
        "colab_type": "text"
      },
      "source": [
        "<a href=\"https://colab.research.google.com/github/vallirajasekar/Azure-sdk/blob/main/Creating_workspace.ipynb\" target=\"_parent\"><img src=\"https://colab.research.google.com/assets/colab-badge.svg\" alt=\"Open In Colab\"/></a>"
      ]
    },
    {
      "cell_type": "code",
      "execution_count": null,
      "metadata": {
        "id": "tmNadMKBSCMC"
      },
      "outputs": [],
      "source": []
    },
    {
      "cell_type": "markdown",
      "source": [
        "# Installation and Setup"
      ],
      "metadata": {
        "id": "353ZlhBPSQb_"
      }
    },
    {
      "cell_type": "code",
      "source": [
        "#azure ml sdk package"
      ],
      "metadata": {
        "id": "yupvJC3oSUSU"
      },
      "execution_count": 1,
      "outputs": []
    },
    {
      "cell_type": "code",
      "source": [
        "#pip install azureml-sdk"
      ],
      "metadata": {
        "id": "Z_k2Dp3dSao6"
      },
      "execution_count": 3,
      "outputs": []
    },
    {
      "cell_type": "code",
      "source": [
        "import azureml.core\n",
        "print(azureml.core .VERSION)"
      ],
      "metadata": {
        "colab": {
          "base_uri": "https://localhost:8080/"
        },
        "id": "Nom5hFKUSeQw",
        "outputId": "d48a8de0-02d8-4b08-a7cd-4dbd77cf60b4"
      },
      "execution_count": 5,
      "outputs": [
        {
          "output_type": "stream",
          "name": "stdout",
          "text": [
            "1.55.0\n"
          ]
        }
      ]
    },
    {
      "cell_type": "code",
      "source": [],
      "metadata": {
        "id": "TrCf5Vs9S4Q8"
      },
      "execution_count": null,
      "outputs": []
    },
    {
      "cell_type": "markdown",
      "source": [
        "# Create Workspace"
      ],
      "metadata": {
        "id": "DI4O6z96TPoC"
      }
    },
    {
      "cell_type": "code",
      "source": [
        "from azureml.core import Workspace"
      ],
      "metadata": {
        "id": "BVO5O2oESyk3"
      },
      "execution_count": 7,
      "outputs": []
    },
    {
      "cell_type": "markdown",
      "source": [
        "A Workspace is a fundamental resource for machine learning in Azure Machine Learning. You use a workspace to\n",
        " |  experiment, train, and deploy machine learning models. Each workspace is tied to an Azure subscription and\n",
        " |  resource group, and has an associated SKU."
      ],
      "metadata": {
        "id": "iiaTBREZTvw4"
      }
    },
    {
      "cell_type": "code",
      "source": [
        "## Creating Workspace Object"
      ],
      "metadata": {
        "id": "E9A4DwJ_UM-h"
      },
      "execution_count": 10,
      "outputs": []
    },
    {
      "cell_type": "code",
      "source": [
        "ws=Workspace.create(name='azureml-sdk-workspace',subscription_id='fda9a93e-0f8d-43c3-b9a7-ec20b110dfbb',resource_group='azuremlsdk-rg',create_resource_group=True,location='westus')"
      ],
      "metadata": {
        "colab": {
          "base_uri": "https://localhost:8080/"
        },
        "id": "mt5ihV3aUTjZ",
        "outputId": "59b2d1c4-6da7-46ba-8888-6e7b5f4c60ae"
      },
      "execution_count": 11,
      "outputs": [
        {
          "output_type": "stream",
          "name": "stdout",
          "text": [
            "Performing interactive authentication. Please follow the instructions on the terminal.\n"
          ]
        },
        {
          "output_type": "stream",
          "name": "stderr",
          "text": [
            "WARNING:azureml._vendor.azure_cli_core.auth.identity:To sign in, use a web browser to open the page https://microsoft.com/devicelogin and enter the code ECYXWR2CT to authenticate.\n"
          ]
        },
        {
          "output_type": "stream",
          "name": "stdout",
          "text": [
            "Interactive authentication successfully completed.\n"
          ]
        },
        {
          "output_type": "stream",
          "name": "stderr",
          "text": [
            "UserWarning: The resource group doesn't exist or was not provided. AzureML SDK is creating a resource group=azuremlsdk-rg in location=westus using subscription=fda9a93e-0f8d-43c3-b9a7-ec20b110dfbb.\n"
          ]
        },
        {
          "output_type": "stream",
          "name": "stdout",
          "text": [
            "Cleaning up past default Resource Group Deployments on the subscription to avoid limit of 10\n",
            "Deleting past Resource Group Deployment with name: DeployResourceGroup-1859d74dd6\n",
            "Deploying StorageAccount with name azuremlsstorage0700051b4.\n",
            "Deploying Workspace with name azureml-sdk-workspace.\n",
            "Deploying AppInsights with name azuremlsinsights40fcfb28.\n",
            "Deployed AppInsights with name azuremlsinsights40fcfb28. Took 37.75 seconds.\n",
            "Deployed Workspace with name azureml-sdk-workspace. Took 313.19 seconds.\n"
          ]
        }
      ]
    }
  ]
}